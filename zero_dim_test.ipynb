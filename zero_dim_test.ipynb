{
 "cells": [
  {
   "cell_type": "code",
   "execution_count": 1,
   "id": "ef4d9451",
   "metadata": {},
   "outputs": [],
   "source": [
    "import numpy as np"
   ]
  },
  {
   "cell_type": "code",
   "execution_count": 2,
   "id": "e32fe4b6",
   "metadata": {},
   "outputs": [],
   "source": [
    "n = np.array(3.14)"
   ]
  },
  {
   "cell_type": "code",
   "execution_count": 3,
   "id": "2966891d",
   "metadata": {},
   "outputs": [
    {
     "name": "stdout",
     "output_type": "stream",
     "text": [
      "[]\n",
      "[3.14]\n"
     ]
    }
   ],
   "source": [
    "print(n[np.array(False)])\n",
    "print(n[np.array(True)])"
   ]
  },
  {
   "cell_type": "code",
   "execution_count": 4,
   "id": "abac781b",
   "metadata": {},
   "outputs": [
    {
     "name": "stdout",
     "output_type": "stream",
     "text": [
      "[]\n",
      "[3.14]\n"
     ]
    }
   ],
   "source": [
    "print(n[False])\n",
    "print(n[True])"
   ]
  },
  {
   "cell_type": "code",
   "execution_count": 5,
   "id": "f41b8ddd",
   "metadata": {},
   "outputs": [],
   "source": [
    "import torch"
   ]
  },
  {
   "cell_type": "code",
   "execution_count": 9,
   "id": "7100f9d0",
   "metadata": {},
   "outputs": [
    {
     "name": "stdout",
     "output_type": "stream",
     "text": [
      "tensor([])\n",
      "tensor([3.1400])\n"
     ]
    }
   ],
   "source": [
    "t = torch.tensor(3.14)\n",
    "print(t[torch.tensor(False)])\n",
    "print(t[torch.tensor(True)])"
   ]
  },
  {
   "cell_type": "code",
   "execution_count": 10,
   "id": "91502fa1",
   "metadata": {},
   "outputs": [
    {
     "name": "stdout",
     "output_type": "stream",
     "text": [
      "tensor([])\n",
      "tensor([3.1400])\n"
     ]
    }
   ],
   "source": [
    "print(t[False])\n",
    "print(t[True])"
   ]
  },
  {
   "cell_type": "code",
   "execution_count": 11,
   "id": "4b4767b7",
   "metadata": {},
   "outputs": [],
   "source": [
    "import open3d.core as o3c"
   ]
  },
  {
   "cell_type": "code",
   "execution_count": 12,
   "id": "54071a5f",
   "metadata": {},
   "outputs": [
    {
     "name": "stdout",
     "output_type": "stream",
     "text": [
      "0-element Tensor\n",
      "Tensor[shape={0}, stride={1}, Int64, CPU:0, 0x55ced0eed400]\n",
      "3.14\n",
      "Tensor[shape={}, stride={}, Float64, CPU:0, 0x55ced0eed140]\n"
     ]
    }
   ],
   "source": [
    "o = o3c.Tensor(3.14)\n",
    "print(o[o3c.Tensor(False)])\n",
    "print(o[o3c.Tensor(True)])"
   ]
  },
  {
   "cell_type": "code",
   "execution_count": 13,
   "id": "36c5516b",
   "metadata": {},
   "outputs": [
    {
     "ename": "RuntimeError",
     "evalue": "\u001b[1;31m[Open3D Error] (open3d::core::Tensor open3d::core::Tensor::IndexExtract(int64_t, int64_t) const) /home/yixing/repo/Open3D/cpp/open3d/core/Tensor.cpp:642: Tensor has shape (), cannot be indexed.\n\u001b[0;m",
     "output_type": "error",
     "traceback": [
      "\u001b[0;31m---------------------------------------------------------------------------\u001b[0m",
      "\u001b[0;31mRuntimeError\u001b[0m                              Traceback (most recent call last)",
      "\u001b[0;32m<ipython-input-13-277abc397a4c>\u001b[0m in \u001b[0;36m<module>\u001b[0;34m\u001b[0m\n\u001b[0;32m----> 1\u001b[0;31m \u001b[0mprint\u001b[0m\u001b[0;34m(\u001b[0m\u001b[0mo\u001b[0m\u001b[0;34m[\u001b[0m\u001b[0;32mTrue\u001b[0m\u001b[0;34m]\u001b[0m\u001b[0;34m)\u001b[0m\u001b[0;34m\u001b[0m\u001b[0;34m\u001b[0m\u001b[0m\n\u001b[0m\u001b[1;32m      2\u001b[0m \u001b[0mprint\u001b[0m\u001b[0;34m(\u001b[0m\u001b[0mo\u001b[0m\u001b[0;34m[\u001b[0m\u001b[0;32mFalse\u001b[0m\u001b[0;34m]\u001b[0m\u001b[0;34m)\u001b[0m\u001b[0;34m\u001b[0m\u001b[0;34m\u001b[0m\u001b[0m\n",
      "\u001b[0;31mRuntimeError\u001b[0m: \u001b[1;31m[Open3D Error] (open3d::core::Tensor open3d::core::Tensor::IndexExtract(int64_t, int64_t) const) /home/yixing/repo/Open3D/cpp/open3d/core/Tensor.cpp:642: Tensor has shape (), cannot be indexed.\n\u001b[0;m"
     ]
    }
   ],
   "source": [
    "print(o[True])\n",
    "print(o[False])"
   ]
  },
  {
   "cell_type": "code",
   "execution_count": null,
   "id": "226a4941",
   "metadata": {},
   "outputs": [],
   "source": []
  }
 ],
 "metadata": {
  "kernelspec": {
   "display_name": "Python 3",
   "language": "python",
   "name": "python3"
  },
  "language_info": {
   "codemirror_mode": {
    "name": "ipython",
    "version": 3
   },
   "file_extension": ".py",
   "mimetype": "text/x-python",
   "name": "python",
   "nbconvert_exporter": "python",
   "pygments_lexer": "ipython3",
   "version": "3.8.10"
  }
 },
 "nbformat": 4,
 "nbformat_minor": 5
}
